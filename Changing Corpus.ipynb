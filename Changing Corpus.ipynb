{
 "cells": [
  {
   "cell_type": "code",
   "execution_count": null,
   "metadata": {
    "ExecuteTime": {
     "end_time": "2022-05-12T15:56:53.358029Z",
     "start_time": "2022-05-12T15:56:53.351711Z"
    }
   },
   "outputs": [],
   "source": [
    "import re\n",
    "from collections import Counter"
   ]
  },
  {
   "cell_type": "code",
   "execution_count": null,
   "metadata": {
    "ExecuteTime": {
     "end_time": "2022-05-12T15:56:54.559955Z",
     "start_time": "2022-05-12T15:56:54.542838Z"
    }
   },
   "outputs": [],
   "source": [
    "def tokenize(text):\n",
    "    pattern = re.compile('[a-zA-Z]+')\n",
    "    return (match.group(0) for match in pattern.finditer(text))"
   ]
  },
  {
   "cell_type": "code",
   "execution_count": null,
   "metadata": {
    "ExecuteTime": {
     "end_time": "2022-05-12T15:56:55.664609Z",
     "start_time": "2022-05-12T15:56:55.655487Z"
    }
   },
   "outputs": [],
   "source": [
    "def pairs(iterable):\n",
    "    iterator = iter(iterable)\n",
    "    values = [next(iterator)]\n",
    "    for value in iterator:\n",
    "        values.append(value)\n",
    "        yield ' '.join(values)\n",
    "        del values[0]"
   ]
  },
  {
   "cell_type": "code",
   "execution_count": null,
   "metadata": {
    "ExecuteTime": {
     "end_time": "2022-05-12T16:36:13.681880Z",
     "start_time": "2022-05-12T16:36:10.322404Z"
    }
   },
   "outputs": [],
   "source": [
    "import spacy\n",
    "\n",
    "nlp = spacy.load('es_core_news_sm')\n",
    "sentences = \"¿Quién eres tú? ¡Hola! ¿Dónde estoy?\"\n",
    "doc = nlp(sentences)\n",
    "tokens = [token for token in doc]\n",
    "print(tokens)"
   ]
  },
  {
   "cell_type": "code",
   "execution_count": null,
   "metadata": {
    "ExecuteTime": {
     "end_time": "2022-05-12T16:38:10.882837Z",
     "start_time": "2022-05-12T16:38:10.358940Z"
    }
   },
   "outputs": [],
   "source": [
    "import es_core_news_sm\n",
    "nlp = es_core_news_sm.load()\n",
    "doc = nlp(\"El copal se usa principalmente para sahumar en distintas ocasiones como lo son las fiestas religiosas.\")\n",
    "print([(w.text, w.pos_) for w in doc])"
   ]
  },
  {
   "cell_type": "code",
   "execution_count": null,
   "metadata": {
    "ExecuteTime": {
     "end_time": "2022-05-12T15:56:59.420173Z",
     "start_time": "2022-05-12T15:56:58.786934Z"
    },
    "run_control": {
     "marked": false
    }
   },
   "outputs": [],
   "source": [
    "import wordsegment\n",
    "\n",
    "wordsegment.load()"
   ]
  },
  {
   "cell_type": "code",
   "execution_count": null,
   "metadata": {
    "ExecuteTime": {
     "end_time": "2022-05-12T15:57:08.237703Z",
     "start_time": "2022-05-12T15:57:02.858790Z"
    }
   },
   "outputs": [],
   "source": [
    "with open(r'F:\\folder\\Spanish_Biomedical_Corpus_Processed.txt', 'r', encoding= 'utf-8') as f:\n",
    "    text = f.read()"
   ]
  },
  {
   "cell_type": "code",
   "execution_count": null,
   "metadata": {
    "ExecuteTime": {
     "end_time": "2022-05-12T16:06:49.309620Z",
     "start_time": "2022-05-12T16:06:49.191691Z"
    },
    "run_control": {
     "marked": false
    }
   },
   "outputs": [],
   "source": [
    "print(list(wordsegment.UNIGRAMS.items())[0:3])\n",
    "# print(wordsegment.BIGRAMS.items()[:2])"
   ]
  },
  {
   "cell_type": "code",
   "execution_count": null,
   "metadata": {
    "ExecuteTime": {
     "end_time": "2022-05-12T16:03:49.997192Z",
     "start_time": "2022-05-12T16:02:19.582473Z"
    }
   },
   "outputs": [],
   "source": [
    "wordsegment.UNIGRAMS.clear()\n",
    "wordsegment.UNIGRAMS.update(Counter(tokenize(text)))"
   ]
  },
  {
   "cell_type": "code",
   "execution_count": null,
   "metadata": {
    "ExecuteTime": {
     "end_time": "2022-05-12T16:06:30.839129Z",
     "start_time": "2022-05-12T16:03:57.348830Z"
    }
   },
   "outputs": [],
   "source": [
    "wordsegment.BIGRAMS.clear()\n",
    "wordsegment.BIGRAMS.update(Counter(pairs(tokenize(text))))"
   ]
  },
  {
   "cell_type": "code",
   "execution_count": null,
   "metadata": {
    "ExecuteTime": {
     "end_time": "2022-05-12T16:23:41.261044Z",
     "start_time": "2022-05-12T16:23:41.135076Z"
    }
   },
   "outputs": [],
   "source": [
    "print(list(wordsegment.UNIGRAMS.items())[0:3])\n",
    "# print(wordsegment.BIGRAMS.items()[:2])"
   ]
  },
  {
   "cell_type": "code",
   "execution_count": null,
   "metadata": {
    "ExecuteTime": {
     "end_time": "2022-05-12T16:47:37.824626Z",
     "start_time": "2022-05-12T16:47:37.749439Z"
    }
   },
   "outputs": [],
   "source": [
    "?wordsegment.segment"
   ]
  },
  {
   "cell_type": "code",
   "execution_count": null,
   "metadata": {},
   "outputs": [],
   "source": []
  },
  {
   "cell_type": "code",
   "execution_count": null,
   "metadata": {
    "ExecuteTime": {
     "end_time": "2022-05-12T16:24:37.474390Z",
     "start_time": "2022-05-12T16:24:31.743677Z"
    }
   },
   "outputs": [],
   "source": [
    "with open(r'F:\\folder\\Spanish_Biomedical_Corpus_Processed.txt', encoding= 'utf-8') as fp:\n",
    "    lines = fp.readlines()\n",
    "for line in lines[0:10]:\n",
    "    print(line)"
   ]
  },
  {
   "cell_type": "code",
   "execution_count": null,
   "metadata": {
    "ExecuteTime": {
     "end_time": "2022-05-12T16:25:23.706996Z",
     "start_time": "2022-05-12T16:24:46.924823Z"
    }
   },
   "outputs": [],
   "source": [
    "with open(r'F:\\folder\\Spanish_Biomedical_Corpus.txt', encoding= 'utf-8') as fp:\n",
    "    lines = fp.readlines()\n",
    "for line in lines[0:10]:\n",
    "    print(line)"
   ]
  }
 ],
 "metadata": {
  "kernelspec": {
   "display_name": "Python 3",
   "language": "python",
   "name": "python3"
  },
  "language_info": {
   "codemirror_mode": {
    "name": "ipython",
    "version": 3
   },
   "file_extension": ".py",
   "mimetype": "text/x-python",
   "name": "python",
   "nbconvert_exporter": "python",
   "pygments_lexer": "ipython3",
   "version": "3.7.6"
  },
  "toc": {
   "base_numbering": 1,
   "nav_menu": {},
   "number_sections": true,
   "sideBar": true,
   "skip_h1_title": false,
   "title_cell": "Table of Contents",
   "title_sidebar": "Contents",
   "toc_cell": false,
   "toc_position": {},
   "toc_section_display": true,
   "toc_window_display": false
  },
  "varInspector": {
   "cols": {
    "lenName": 16,
    "lenType": 16,
    "lenVar": 40
   },
   "kernels_config": {
    "python": {
     "delete_cmd_postfix": "",
     "delete_cmd_prefix": "del ",
     "library": "var_list.py",
     "varRefreshCmd": "print(var_dic_list())"
    },
    "r": {
     "delete_cmd_postfix": ") ",
     "delete_cmd_prefix": "rm(",
     "library": "var_list.r",
     "varRefreshCmd": "cat(var_dic_list()) "
    }
   },
   "types_to_exclude": [
    "module",
    "function",
    "builtin_function_or_method",
    "instance",
    "_Feature"
   ],
   "window_display": false
  }
 },
 "nbformat": 4,
 "nbformat_minor": 4
}
